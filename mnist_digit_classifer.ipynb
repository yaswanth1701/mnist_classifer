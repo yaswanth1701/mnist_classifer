{
  "nbformat": 4,
  "nbformat_minor": 0,
  "metadata": {
    "colab": {
      "provenance": [],
      "authorship_tag": "ABX9TyMjq2rvYi9L/DpxTyK4ra39",
      "include_colab_link": true
    },
    "kernelspec": {
      "name": "python3",
      "display_name": "Python 3"
    },
    "language_info": {
      "name": "python"
    }
  },
  "cells": [
    {
      "cell_type": "markdown",
      "metadata": {
        "id": "view-in-github",
        "colab_type": "text"
      },
      "source": [
        "<a href=\"https://colab.research.google.com/github/yaswanth1701/mnist_classifer/blob/main/mnist_digit_classifer.ipynb\" target=\"_parent\"><img src=\"https://colab.research.google.com/assets/colab-badge.svg\" alt=\"Open In Colab\"/></a>"
      ]
    },
    {
      "cell_type": "code",
      "execution_count": 1,
      "metadata": {
        "id": "nJL4F4LFNGl1"
      },
      "outputs": [],
      "source": [
        "import numpy as np "
      ]
    },
    {
      "cell_type": "code",
      "source": [
        "from keras.datasets import mnist"
      ],
      "metadata": {
        "id": "5Hbg95OSNS2k"
      },
      "execution_count": 2,
      "outputs": []
    },
    {
      "cell_type": "code",
      "source": [
        "(train_X, train_y), (test_X, test_y) = mnist.load_data()"
      ],
      "metadata": {
        "id": "hVZVvtUaNd3Z"
      },
      "execution_count": 3,
      "outputs": []
    },
    {
      "cell_type": "code",
      "source": [
        "print(train_X.shape[0])"
      ],
      "metadata": {
        "colab": {
          "base_uri": "https://localhost:8080/"
        },
        "id": "L1Mu-DmaNhhi",
        "outputId": "636abe07-1fd3-48ef-c325-02e86021a6b8"
      },
      "execution_count": 4,
      "outputs": [
        {
          "output_type": "stream",
          "name": "stdout",
          "text": [
            "60000\n"
          ]
        }
      ]
    },
    {
      "cell_type": "code",
      "source": [
        "print(train_X[0].shape)"
      ],
      "metadata": {
        "colab": {
          "base_uri": "https://localhost:8080/"
        },
        "id": "_FB_lwVGOJxY",
        "outputId": "c3ad2629-ea38-4248-a573-8a4966a19afa"
      },
      "execution_count": 5,
      "outputs": [
        {
          "output_type": "stream",
          "name": "stdout",
          "text": [
            "(28, 28)\n"
          ]
        }
      ]
    },
    {
      "cell_type": "code",
      "source": [
        "class DNN:\n",
        "  def __init__(self,size,epochs,lr):\n",
        "    self.size=size\n",
        "    self.epochs=epochs\n",
        "    self.lr=lr\n",
        "\n",
        "\n",
        "    input_layer=size[0]\n",
        "    hidden1_layer=size[1]\n",
        "    hidden2_layer=size[2]\n",
        "    output_layer=size[3]\n",
        "    \n",
        "    self.params={ \n",
        "        'W1':np.random.randn(hidden1_layer,input_layer)*np.sqrt(1./hidden1_layer),\n",
        "        'W2':np.random.randn(hidden2_layer,hidden1_layer)*np.sqrt(1./hidden2_layer),\n",
        "        'W3':np.random.randn(output_layer,hidden2_layer)*np.sqrt(1./output_layer)\n",
        "    }\n",
        "  def sigmoid(self,x,derivate=False):\n",
        "    if derivate:\n",
        "      return (np.exp(-x))/((np.exp(-x)+1)**2)\n",
        "    return 1/(1+np.exp(-x))\n",
        "  def softmax(self,x,derivate=False):\n",
        "    exps= np.exp(x-x.max())\n",
        "    if derivate:\n",
        "      return exps/np.sum(exps,axis=0)*(1-exps/np.sum(exps,axis=0))\n",
        "    return exps / np.sum(exps, axis=0)\n",
        "\n",
        "\n",
        "  def forward_pass(self,x_train):\n",
        "    params=self.params\n",
        "    params['A0']=x_train # (28*28,1)\n",
        "    # input layers to hidden1_layer\n",
        "    params['Z1']=np.dot(params['W1'],params['A0']) # (128,784)*(784,1)=(128x1)\n",
        "    params['A1']=self.sigmoid(params['Z1']) # 128x1 sigmoid\n",
        "\n",
        "    #input to hidden2_layer\n",
        "    params['Z2']=np.dot(params['W2'],params['A1']) #(64,125)*(125,1)=(64x1)\n",
        "    params['A2']=self.sigmoid(params['Z2']) # 64x1 sigmoid\n",
        "    #input to output_layer\n",
        "    params['Z3']=np.dot(params['W3'],params['A2']) # (10,64)*(64,1)=(10x1)\n",
        "    params['A3']= self.softmax(params['Z3'])         # 10x1    softmax \n",
        "    return params['A3']\n",
        "\n",
        "\n",
        "  def backward_pass(self,output,y_train):\n",
        "    params=self.params\n",
        "    change_w={}\n",
        "    # calculate w3 update\n",
        "    y_train=y_train.reshape(10,1)\n",
        "    error=2*(output-y_train)/output.shape[0]*self.softmax(params['Z3'],derivate=True)\n",
        "    change_w['W3']=np.outer(error,params['A2'])\n",
        "\n",
        "    # calculate w2 update\n",
        "    error=np.dot(params['W3'].T,error)*self.sigmoid(params['Z2'],derivate=True)\n",
        "    change_w['W2']=np.outer(error,params['A1'])\n",
        "    # calculate w1 update\n",
        "    error=np.dot(params['W2'].T,error)*self.sigmoid(params['Z1'],derivate=True)\n",
        "    change_w['W1']= np.outer(error,params['A0'])\n",
        "    return change_w\n",
        "\n",
        "  def update_weights(self,change_w):\n",
        "    for key,val in change_w.items():\n",
        "      self.params[key]-=val*self.lr\n",
        "\n",
        "\n",
        "  def compute_accuacry(self,test_X,test_Y):\n",
        "    prediction=np.zeros(10000)\n",
        "    for i in range(10000):\n",
        "      input=(test_X[i].reshape(784,1)/255*0.99)+0.01\n",
        "      target=np.zeros(10)+0.01\n",
        "      target[test_Y[i]]=0.99\n",
        "      output=self.forward_pass(input)\n",
        "      pred=np.argmax(output)\n",
        "      prediction[i]=(pred==np.argmax(target))\n",
        "    return np.mean(prediction)\n",
        "\n",
        "\n",
        "\n",
        "  def train(self,train_X,train_Y,test_X,test_Y ):\n",
        "    for i in range(self.epochs):\n",
        "      for j in range(60000):\n",
        "        input=(train_X[j].reshape(784,1)/255*0.99)+0.01\n",
        "        target=np.zeros(10)+0.01\n",
        "        target[train_Y[j]]=0.99\n",
        "        output=self.forward_pass(input)\n",
        "        change_w=self.backward_pass(output,target)\n",
        "        self.update_weights(change_w)\n",
        "      accuracy=self.compute_accuacry(test_X,test_Y)\n",
        "      print('epochs{epoch} --- accuaracy{a} %'.format(epoch=i,a=accuracy*100))\n"
      ],
      "metadata": {
        "id": "q9ufPEA2sUdj"
      },
      "execution_count": 6,
      "outputs": []
    },
    {
      "cell_type": "code",
      "source": [
        "dnn=DNN([784,128,64,10],10,0.05)\n",
        "dnn.train(train_X, train_y,test_X, test_y)\n"
      ],
      "metadata": {
        "colab": {
          "base_uri": "https://localhost:8080/",
          "height": 243
        },
        "id": "GBKUxsWXsUmt",
        "outputId": "ab5328f9-8830-49e4-96ad-a68db597989e"
      },
      "execution_count": 8,
      "outputs": [
        {
          "output_type": "error",
          "ename": "KeyboardInterrupt",
          "evalue": "ignored",
          "traceback": [
            "\u001b[0;31m---------------------------------------------------------------------------\u001b[0m",
            "\u001b[0;31mKeyboardInterrupt\u001b[0m                         Traceback (most recent call last)",
            "\u001b[0;32m<ipython-input-8-be1059cdec5b>\u001b[0m in \u001b[0;36m<module>\u001b[0;34m\u001b[0m\n\u001b[1;32m      1\u001b[0m \u001b[0mdnn\u001b[0m\u001b[0;34m=\u001b[0m\u001b[0mDNN\u001b[0m\u001b[0;34m(\u001b[0m\u001b[0;34m[\u001b[0m\u001b[0;36m784\u001b[0m\u001b[0;34m,\u001b[0m\u001b[0;36m128\u001b[0m\u001b[0;34m,\u001b[0m\u001b[0;36m64\u001b[0m\u001b[0;34m,\u001b[0m\u001b[0;36m10\u001b[0m\u001b[0;34m]\u001b[0m\u001b[0;34m,\u001b[0m\u001b[0;36m10\u001b[0m\u001b[0;34m,\u001b[0m\u001b[0;36m0.05\u001b[0m\u001b[0;34m)\u001b[0m\u001b[0;34m\u001b[0m\u001b[0;34m\u001b[0m\u001b[0m\n\u001b[0;32m----> 2\u001b[0;31m \u001b[0mdnn\u001b[0m\u001b[0;34m.\u001b[0m\u001b[0mtrain\u001b[0m\u001b[0;34m(\u001b[0m\u001b[0mtrain_X\u001b[0m\u001b[0;34m,\u001b[0m \u001b[0mtrain_y\u001b[0m\u001b[0;34m,\u001b[0m\u001b[0mtest_X\u001b[0m\u001b[0;34m,\u001b[0m \u001b[0mtest_y\u001b[0m\u001b[0;34m)\u001b[0m\u001b[0;34m\u001b[0m\u001b[0;34m\u001b[0m\u001b[0m\n\u001b[0m",
            "\u001b[0;32m<ipython-input-6-75de1ad13ef8>\u001b[0m in \u001b[0;36mtrain\u001b[0;34m(self, train_X, train_Y, test_X, test_Y)\u001b[0m\n\u001b[1;32m     84\u001b[0m         \u001b[0mtarget\u001b[0m\u001b[0;34m[\u001b[0m\u001b[0mtrain_Y\u001b[0m\u001b[0;34m[\u001b[0m\u001b[0mj\u001b[0m\u001b[0;34m]\u001b[0m\u001b[0;34m]\u001b[0m\u001b[0;34m=\u001b[0m\u001b[0;36m0.99\u001b[0m\u001b[0;34m\u001b[0m\u001b[0;34m\u001b[0m\u001b[0m\n\u001b[1;32m     85\u001b[0m         \u001b[0moutput\u001b[0m\u001b[0;34m=\u001b[0m\u001b[0mself\u001b[0m\u001b[0;34m.\u001b[0m\u001b[0mforward_pass\u001b[0m\u001b[0;34m(\u001b[0m\u001b[0minput\u001b[0m\u001b[0;34m)\u001b[0m\u001b[0;34m\u001b[0m\u001b[0;34m\u001b[0m\u001b[0m\n\u001b[0;32m---> 86\u001b[0;31m         \u001b[0mchange_w\u001b[0m\u001b[0;34m=\u001b[0m\u001b[0mself\u001b[0m\u001b[0;34m.\u001b[0m\u001b[0mbackward_pass\u001b[0m\u001b[0;34m(\u001b[0m\u001b[0moutput\u001b[0m\u001b[0;34m,\u001b[0m\u001b[0mtarget\u001b[0m\u001b[0;34m)\u001b[0m\u001b[0;34m\u001b[0m\u001b[0;34m\u001b[0m\u001b[0m\n\u001b[0m\u001b[1;32m     87\u001b[0m         \u001b[0mself\u001b[0m\u001b[0;34m.\u001b[0m\u001b[0mupdate_weights\u001b[0m\u001b[0;34m(\u001b[0m\u001b[0mchange_w\u001b[0m\u001b[0;34m)\u001b[0m\u001b[0;34m\u001b[0m\u001b[0;34m\u001b[0m\u001b[0m\n\u001b[1;32m     88\u001b[0m       \u001b[0maccuracy\u001b[0m\u001b[0;34m=\u001b[0m\u001b[0mself\u001b[0m\u001b[0;34m.\u001b[0m\u001b[0mcompute_accuacry\u001b[0m\u001b[0;34m(\u001b[0m\u001b[0mtest_X\u001b[0m\u001b[0;34m,\u001b[0m\u001b[0mtest_Y\u001b[0m\u001b[0;34m)\u001b[0m\u001b[0;34m\u001b[0m\u001b[0;34m\u001b[0m\u001b[0m\n",
            "\u001b[0;32m<ipython-input-6-75de1ad13ef8>\u001b[0m in \u001b[0;36mbackward_pass\u001b[0;34m(self, output, y_train)\u001b[0m\n\u001b[1;32m     55\u001b[0m     \u001b[0mchange_w\u001b[0m\u001b[0;34m[\u001b[0m\u001b[0;34m'W2'\u001b[0m\u001b[0;34m]\u001b[0m\u001b[0;34m=\u001b[0m\u001b[0mnp\u001b[0m\u001b[0;34m.\u001b[0m\u001b[0mouter\u001b[0m\u001b[0;34m(\u001b[0m\u001b[0merror\u001b[0m\u001b[0;34m,\u001b[0m\u001b[0mparams\u001b[0m\u001b[0;34m[\u001b[0m\u001b[0;34m'A1'\u001b[0m\u001b[0;34m]\u001b[0m\u001b[0;34m)\u001b[0m\u001b[0;34m\u001b[0m\u001b[0;34m\u001b[0m\u001b[0m\n\u001b[1;32m     56\u001b[0m     \u001b[0;31m# calculate w1 update\u001b[0m\u001b[0;34m\u001b[0m\u001b[0;34m\u001b[0m\u001b[0m\n\u001b[0;32m---> 57\u001b[0;31m     \u001b[0merror\u001b[0m\u001b[0;34m=\u001b[0m\u001b[0mnp\u001b[0m\u001b[0;34m.\u001b[0m\u001b[0mdot\u001b[0m\u001b[0;34m(\u001b[0m\u001b[0mparams\u001b[0m\u001b[0;34m[\u001b[0m\u001b[0;34m'W2'\u001b[0m\u001b[0;34m]\u001b[0m\u001b[0;34m.\u001b[0m\u001b[0mT\u001b[0m\u001b[0;34m,\u001b[0m\u001b[0merror\u001b[0m\u001b[0;34m)\u001b[0m\u001b[0;34m*\u001b[0m\u001b[0mself\u001b[0m\u001b[0;34m.\u001b[0m\u001b[0msigmoid\u001b[0m\u001b[0;34m(\u001b[0m\u001b[0mparams\u001b[0m\u001b[0;34m[\u001b[0m\u001b[0;34m'Z1'\u001b[0m\u001b[0;34m]\u001b[0m\u001b[0;34m,\u001b[0m\u001b[0mderivate\u001b[0m\u001b[0;34m=\u001b[0m\u001b[0;32mTrue\u001b[0m\u001b[0;34m)\u001b[0m\u001b[0;34m\u001b[0m\u001b[0;34m\u001b[0m\u001b[0m\n\u001b[0m\u001b[1;32m     58\u001b[0m     \u001b[0mchange_w\u001b[0m\u001b[0;34m[\u001b[0m\u001b[0;34m'W1'\u001b[0m\u001b[0;34m]\u001b[0m\u001b[0;34m=\u001b[0m \u001b[0mnp\u001b[0m\u001b[0;34m.\u001b[0m\u001b[0mouter\u001b[0m\u001b[0;34m(\u001b[0m\u001b[0merror\u001b[0m\u001b[0;34m,\u001b[0m\u001b[0mparams\u001b[0m\u001b[0;34m[\u001b[0m\u001b[0;34m'A0'\u001b[0m\u001b[0;34m]\u001b[0m\u001b[0;34m)\u001b[0m\u001b[0;34m\u001b[0m\u001b[0;34m\u001b[0m\u001b[0m\n\u001b[1;32m     59\u001b[0m     \u001b[0;32mreturn\u001b[0m \u001b[0mchange_w\u001b[0m\u001b[0;34m\u001b[0m\u001b[0;34m\u001b[0m\u001b[0m\n",
            "\u001b[0;32m/usr/local/lib/python3.9/dist-packages/numpy/core/overrides.py\u001b[0m in \u001b[0;36mdot\u001b[0;34m(*args, **kwargs)\u001b[0m\n",
            "\u001b[0;31mKeyboardInterrupt\u001b[0m: "
          ]
        }
      ]
    },
    {
      "cell_type": "code",
      "source": [
        "predict=dnn.forward_pass((test_X[9100].reshape(784,1)/255*0.99)+0.01)\n",
        "print(np.argmax(predict),test_y[9100])"
      ],
      "metadata": {
        "colab": {
          "base_uri": "https://localhost:8080/"
        },
        "id": "0qhU-QPlIgy2",
        "outputId": "c1f98611-dd04-4295-e6f9-2229f2f63833"
      },
      "execution_count": 26,
      "outputs": [
        {
          "output_type": "stream",
          "name": "stdout",
          "text": [
            "3 3\n"
          ]
        }
      ]
    }
  ]
}